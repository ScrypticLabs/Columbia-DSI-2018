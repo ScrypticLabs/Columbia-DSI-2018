{
 "cells": [
  {
   "cell_type": "code",
   "execution_count": 1,
   "metadata": {},
   "outputs": [],
   "source": [
    "import matplotlib.pyplot as plt\n",
    "import pandas as pd\n",
    "import plotly\n",
    "import plotly.graph_objs as go\n",
    "import plotly.plotly as py\n",
    "from sklearn import preprocessing, manifold, cluster"
   ]
  },
  {
   "cell_type": "code",
   "execution_count": 2,
   "metadata": {},
   "outputs": [],
   "source": [
    "plotly.tools.set_credentials_file(username='navravi', api_key='uYbUJOZ3VYmK0YILm3Gq')"
   ]
  },
  {
   "cell_type": "code",
   "execution_count": 3,
   "metadata": {},
   "outputs": [
    {
     "data": {
      "text/html": [
       "<div>\n",
       "<style scoped>\n",
       "    .dataframe tbody tr th:only-of-type {\n",
       "        vertical-align: middle;\n",
       "    }\n",
       "\n",
       "    .dataframe tbody tr th {\n",
       "        vertical-align: top;\n",
       "    }\n",
       "\n",
       "    .dataframe thead th {\n",
       "        text-align: right;\n",
       "    }\n",
       "</style>\n",
       "<table border=\"1\" class=\"dataframe\">\n",
       "  <thead>\n",
       "    <tr style=\"text-align: right;\">\n",
       "      <th></th>\n",
       "      <th>sex</th>\n",
       "      <th>age</th>\n",
       "      <th>race</th>\n",
       "      <th>decile_score</th>\n",
       "      <th>priors_count</th>\n",
       "      <th>days_b_screening_arrest</th>\n",
       "      <th>c_jail_in</th>\n",
       "      <th>c_jail_out</th>\n",
       "      <th>c_charge_degree</th>\n",
       "      <th>c_charge_desc</th>\n",
       "      <th>is_recid</th>\n",
       "      <th>score_text</th>\n",
       "      <th>two_year_recid</th>\n",
       "      <th>c_jail_time</th>\n",
       "    </tr>\n",
       "  </thead>\n",
       "  <tbody>\n",
       "    <tr>\n",
       "      <th>0</th>\n",
       "      <td>Male</td>\n",
       "      <td>69</td>\n",
       "      <td>Other</td>\n",
       "      <td>1</td>\n",
       "      <td>0</td>\n",
       "      <td>-1.0</td>\n",
       "      <td>2013-08-13 06:03:42</td>\n",
       "      <td>2013-08-14 05:41:20</td>\n",
       "      <td>F</td>\n",
       "      <td>Aggravated Assault w/Firearm</td>\n",
       "      <td>0</td>\n",
       "      <td>Low</td>\n",
       "      <td>0</td>\n",
       "      <td>0 days 23:37:38</td>\n",
       "    </tr>\n",
       "    <tr>\n",
       "      <th>1</th>\n",
       "      <td>Male</td>\n",
       "      <td>34</td>\n",
       "      <td>African-American</td>\n",
       "      <td>3</td>\n",
       "      <td>0</td>\n",
       "      <td>-1.0</td>\n",
       "      <td>2013-01-26 03:45:27</td>\n",
       "      <td>2013-02-05 05:36:53</td>\n",
       "      <td>F</td>\n",
       "      <td>Felony Battery w/Prior Convict</td>\n",
       "      <td>1</td>\n",
       "      <td>Low</td>\n",
       "      <td>1</td>\n",
       "      <td>10 days 01:51:26</td>\n",
       "    </tr>\n",
       "    <tr>\n",
       "      <th>2</th>\n",
       "      <td>Male</td>\n",
       "      <td>24</td>\n",
       "      <td>African-American</td>\n",
       "      <td>4</td>\n",
       "      <td>4</td>\n",
       "      <td>-1.0</td>\n",
       "      <td>2013-04-13 04:58:34</td>\n",
       "      <td>2013-04-14 07:02:04</td>\n",
       "      <td>F</td>\n",
       "      <td>Possession of Cocaine</td>\n",
       "      <td>1</td>\n",
       "      <td>Low</td>\n",
       "      <td>1</td>\n",
       "      <td>1 days 02:03:30</td>\n",
       "    </tr>\n",
       "    <tr>\n",
       "      <th>5</th>\n",
       "      <td>Male</td>\n",
       "      <td>44</td>\n",
       "      <td>Other</td>\n",
       "      <td>1</td>\n",
       "      <td>0</td>\n",
       "      <td>0.0</td>\n",
       "      <td>2013-11-30 04:50:18</td>\n",
       "      <td>2013-12-01 12:28:56</td>\n",
       "      <td>M</td>\n",
       "      <td>Battery</td>\n",
       "      <td>0</td>\n",
       "      <td>Low</td>\n",
       "      <td>0</td>\n",
       "      <td>1 days 07:38:38</td>\n",
       "    </tr>\n",
       "    <tr>\n",
       "      <th>6</th>\n",
       "      <td>Male</td>\n",
       "      <td>41</td>\n",
       "      <td>Caucasian</td>\n",
       "      <td>6</td>\n",
       "      <td>14</td>\n",
       "      <td>-1.0</td>\n",
       "      <td>2014-02-18 05:08:24</td>\n",
       "      <td>2014-02-24 12:18:30</td>\n",
       "      <td>F</td>\n",
       "      <td>Possession Burglary Tools</td>\n",
       "      <td>1</td>\n",
       "      <td>Medium</td>\n",
       "      <td>1</td>\n",
       "      <td>6 days 07:10:06</td>\n",
       "    </tr>\n",
       "  </tbody>\n",
       "</table>\n",
       "</div>"
      ],
      "text/plain": [
       "    sex  age              race  decile_score  priors_count  \\\n",
       "0  Male   69             Other             1             0   \n",
       "1  Male   34  African-American             3             0   \n",
       "2  Male   24  African-American             4             4   \n",
       "5  Male   44             Other             1             0   \n",
       "6  Male   41         Caucasian             6            14   \n",
       "\n",
       "   days_b_screening_arrest           c_jail_in          c_jail_out  \\\n",
       "0                     -1.0 2013-08-13 06:03:42 2013-08-14 05:41:20   \n",
       "1                     -1.0 2013-01-26 03:45:27 2013-02-05 05:36:53   \n",
       "2                     -1.0 2013-04-13 04:58:34 2013-04-14 07:02:04   \n",
       "5                      0.0 2013-11-30 04:50:18 2013-12-01 12:28:56   \n",
       "6                     -1.0 2014-02-18 05:08:24 2014-02-24 12:18:30   \n",
       "\n",
       "  c_charge_degree                   c_charge_desc  is_recid score_text  \\\n",
       "0               F    Aggravated Assault w/Firearm         0        Low   \n",
       "1               F  Felony Battery w/Prior Convict         1        Low   \n",
       "2               F           Possession of Cocaine         1        Low   \n",
       "5               M                         Battery         0        Low   \n",
       "6               F       Possession Burglary Tools         1     Medium   \n",
       "\n",
       "   two_year_recid      c_jail_time  \n",
       "0               0  0 days 23:37:38  \n",
       "1               1 10 days 01:51:26  \n",
       "2               1  1 days 02:03:30  \n",
       "5               0  1 days 07:38:38  \n",
       "6               1  6 days 07:10:06  "
      ]
     },
     "execution_count": 3,
     "metadata": {},
     "output_type": "execute_result"
    }
   ],
   "source": [
    "scores = pd.read_csv('compas-scores-two-years.csv',\n",
    "                     usecols=['age', 'c_charge_degree', 'race', 'score_text',\n",
    "                              'sex', 'priors_count', 'days_b_screening_arrest',\n",
    "                              'decile_score', 'is_recid', 'two_year_recid',\n",
    "                              'c_jail_in', 'c_jail_out', 'c_charge_desc'],\n",
    "                     parse_dates=['c_jail_in', 'c_jail_out'])\n",
    "\n",
    "scores = scores[scores['days_b_screening_arrest'] <= 30]\n",
    "scores = scores[scores['days_b_screening_arrest'] >= -30]\n",
    "scores = scores[scores['is_recid'] != -1]\n",
    "scores = scores[scores['c_charge_degree'] != 'O']\n",
    "scores = scores[scores['score_text'] != 'N/A']\n",
    "\n",
    "scores.loc[:, 'c_jail_time'] = scores['c_jail_out'] - scores['c_jail_in']\n",
    "                \n",
    "scores.head()"
   ]
  },
  {
   "cell_type": "code",
   "execution_count": 4,
   "metadata": {},
   "outputs": [],
   "source": [
    "#times_recid = scores[scores['c_jail_time'].notnull() & scores['is_recid']]['c_jail_time']\n",
    "#times_norecid = scores[scores['c_jail_time'].notnull() & 1 - scores['is_recid']]['c_jail_time']\n",
    "\n",
    "#scores['c_jail_time'].min(), scores['c_jail_time'].max()"
   ]
  },
  {
   "cell_type": "code",
   "execution_count": 5,
   "metadata": {},
   "outputs": [
    {
     "data": {
      "text/html": [
       "<div>\n",
       "<style scoped>\n",
       "    .dataframe tbody tr th:only-of-type {\n",
       "        vertical-align: middle;\n",
       "    }\n",
       "\n",
       "    .dataframe tbody tr th {\n",
       "        vertical-align: top;\n",
       "    }\n",
       "\n",
       "    .dataframe thead th {\n",
       "        text-align: right;\n",
       "    }\n",
       "</style>\n",
       "<table border=\"1\" class=\"dataframe\">\n",
       "  <thead>\n",
       "    <tr style=\"text-align: right;\">\n",
       "      <th></th>\n",
       "      <th>sex</th>\n",
       "      <th>age</th>\n",
       "      <th>priors_count</th>\n",
       "      <th>c_jail_time</th>\n",
       "      <th>c_charge_degree</th>\n",
       "      <th>two_year_recid</th>\n",
       "      <th>African-American</th>\n",
       "      <th>Asian</th>\n",
       "      <th>Caucasian</th>\n",
       "      <th>Hispanic</th>\n",
       "      <th>Native American</th>\n",
       "      <th>Other</th>\n",
       "    </tr>\n",
       "  </thead>\n",
       "  <tbody>\n",
       "    <tr>\n",
       "      <th>0</th>\n",
       "      <td>1</td>\n",
       "      <td>69</td>\n",
       "      <td>0</td>\n",
       "      <td>85058.0</td>\n",
       "      <td>0</td>\n",
       "      <td>0</td>\n",
       "      <td>0</td>\n",
       "      <td>0</td>\n",
       "      <td>0</td>\n",
       "      <td>0</td>\n",
       "      <td>0</td>\n",
       "      <td>1</td>\n",
       "    </tr>\n",
       "    <tr>\n",
       "      <th>1</th>\n",
       "      <td>1</td>\n",
       "      <td>34</td>\n",
       "      <td>0</td>\n",
       "      <td>870686.0</td>\n",
       "      <td>0</td>\n",
       "      <td>1</td>\n",
       "      <td>1</td>\n",
       "      <td>0</td>\n",
       "      <td>0</td>\n",
       "      <td>0</td>\n",
       "      <td>0</td>\n",
       "      <td>0</td>\n",
       "    </tr>\n",
       "    <tr>\n",
       "      <th>2</th>\n",
       "      <td>1</td>\n",
       "      <td>24</td>\n",
       "      <td>4</td>\n",
       "      <td>93810.0</td>\n",
       "      <td>0</td>\n",
       "      <td>1</td>\n",
       "      <td>1</td>\n",
       "      <td>0</td>\n",
       "      <td>0</td>\n",
       "      <td>0</td>\n",
       "      <td>0</td>\n",
       "      <td>0</td>\n",
       "    </tr>\n",
       "    <tr>\n",
       "      <th>5</th>\n",
       "      <td>1</td>\n",
       "      <td>44</td>\n",
       "      <td>0</td>\n",
       "      <td>113918.0</td>\n",
       "      <td>1</td>\n",
       "      <td>0</td>\n",
       "      <td>0</td>\n",
       "      <td>0</td>\n",
       "      <td>0</td>\n",
       "      <td>0</td>\n",
       "      <td>0</td>\n",
       "      <td>1</td>\n",
       "    </tr>\n",
       "    <tr>\n",
       "      <th>6</th>\n",
       "      <td>1</td>\n",
       "      <td>41</td>\n",
       "      <td>14</td>\n",
       "      <td>544206.0</td>\n",
       "      <td>0</td>\n",
       "      <td>1</td>\n",
       "      <td>0</td>\n",
       "      <td>0</td>\n",
       "      <td>1</td>\n",
       "      <td>0</td>\n",
       "      <td>0</td>\n",
       "      <td>0</td>\n",
       "    </tr>\n",
       "  </tbody>\n",
       "</table>\n",
       "</div>"
      ],
      "text/plain": [
       "   sex  age  priors_count  c_jail_time  c_charge_degree  two_year_recid  \\\n",
       "0    1   69             0      85058.0                0               0   \n",
       "1    1   34             0     870686.0                0               1   \n",
       "2    1   24             4      93810.0                0               1   \n",
       "5    1   44             0     113918.0                1               0   \n",
       "6    1   41            14     544206.0                0               1   \n",
       "\n",
       "   African-American  Asian  Caucasian  Hispanic  Native American  Other  \n",
       "0                 0      0          0         0                0      1  \n",
       "1                 1      0          0         0                0      0  \n",
       "2                 1      0          0         0                0      0  \n",
       "5                 0      0          0         0                0      1  \n",
       "6                 0      0          1         0                0      0  "
      ]
     },
     "execution_count": 5,
     "metadata": {},
     "output_type": "execute_result"
    }
   ],
   "source": [
    "scores_dummies = scores[['sex', 'age', 'race', 'priors_count', 'c_jail_time',\n",
    "                         'c_charge_degree', 'two_year_recid']]\n",
    "scores_dummies = scores_dummies.copy()\n",
    "\n",
    "scores_dummies['c_jail_time'] = scores_dummies['c_jail_time'].dt.total_seconds()\n",
    "\n",
    "scores_dummies['sex'].replace('Female', 0, inplace=True)\n",
    "scores_dummies['sex'].replace('Male', 1, inplace=True)\n",
    "\n",
    "scores_dummies['c_charge_degree'].replace('F', 0, inplace=True)\n",
    "scores_dummies['c_charge_degree'].replace('M', 1, inplace=True)\n",
    "\n",
    "race_dummies = pd.get_dummies(scores['race'])\n",
    "scores_dummies.drop(columns='race', inplace=True)\n",
    "scores_dummies = pd.concat([scores_dummies, race_dummies], axis=1)\n",
    "\n",
    "scores_dummies.head()"
   ]
  },
  {
   "cell_type": "code",
   "execution_count": 6,
   "metadata": {},
   "outputs": [
    {
     "data": {
      "text/plain": [
       "(6172, 12)"
      ]
     },
     "execution_count": 6,
     "metadata": {},
     "output_type": "execute_result"
    }
   ],
   "source": [
    "X = preprocessing.scale(scores_dummies)\n",
    "X.shape"
   ]
  },
  {
   "cell_type": "code",
   "execution_count": 7,
   "metadata": {},
   "outputs": [],
   "source": [
    "tsne = manifold.TSNE()\n",
    "X_tsne = tsne.fit_transform(X)"
   ]
  },
  {
   "cell_type": "code",
   "execution_count": 8,
   "metadata": {},
   "outputs": [
    {
     "data": {
      "image/png": "[encoded data removed]",
      "text/plain": [
       "<matplotlib.figure.Figure at 0x24a6d816400>"
      ]
     },
     "metadata": {},
     "output_type": "display_data"
    }
   ],
   "source": [
    "plt.plot(X_tsne[:, 0], X_tsne[:, 1], '.')\n",
    "plt.show()"
   ]
  },
  {
   "cell_type": "code",
   "execution_count": 9,
   "metadata": {},
   "outputs": [],
   "source": [
    "kmeans = cluster.KMeans(2)\n",
    "clusters = kmeans.fit_predict(X)"
   ]
  },
  {
   "cell_type": "code",
   "execution_count": 10,
   "metadata": {},
   "outputs": [],
   "source": [
    "def make_label(row):\n",
    "    #return ', '.join('{}: {}'.format(k, v) for k, v in row.items())\n",
    "    return 'score: {}, crime: {}'.format(row['decile_score'], row['c_charge_desc'])"
   ]
  },
  {
   "cell_type": "code",
   "execution_count": 11,
   "metadata": {},
   "outputs": [
    {
     "data": {
      "text/html": [
       "<iframe id=\"igraph\" scrolling=\"no\" style=\"border:none;\" seamless=\"seamless\" src=\"https://plot.ly/~navravi/4.embed\" height=\"525px\" width=\"100%\"></iframe>"
      ],
      "text/plain": [
       "<plotly.tools.PlotlyDisplay object>"
      ]
     },
     "execution_count": 11,
     "metadata": {},
     "output_type": "execute_result"
    }
   ],
   "source": [
    "trace = go.Scatter(x=X_tsne[:, 0], y=X_tsne[:, 1], mode='markers',\n",
    "                   text=scores.apply(make_label, axis=1),\n",
    "                   marker={'color': clusters, 'colorscale': 'Picnic'})\n",
    "fig = {'data': [trace], 'layout': {'title': 'TSNE Visualization of Clusters'}}\n",
    "py.iplot(fig, filename='tsne-clusters')"
   ]
  },
  {
   "cell_type": "code",
   "execution_count": 12,
   "metadata": {},
   "outputs": [
    {
     "data": {
      "text/html": [
       "<iframe id=\"igraph\" scrolling=\"no\" style=\"border:none;\" seamless=\"seamless\" src=\"https://plot.ly/~navravi/6.embed\" height=\"525px\" width=\"100%\"></iframe>"
      ],
      "text/plain": [
       "<plotly.tools.PlotlyDisplay object>"
      ]
     },
     "execution_count": 12,
     "metadata": {},
     "output_type": "execute_result"
    }
   ],
   "source": [
    "trace = go.Scatter(x=X_tsne[:, 0], y=X_tsne[:, 1], mode='markers',\n",
    "                   text=scores.apply(make_label, axis=1),\n",
    "                   marker={'color': scores['decile_score'], 'colorscale': 'Viridis'})\n",
    "fig = {'data': [trace], 'layout': {'title': 'TSNE Visualization of COMPAS Scores'}}\n",
    "py.iplot(fig, filename='tsne-scores')"
   ]
  }
 ],
 "metadata": {
  "kernelspec": {
   "display_name": "Python 3",
   "language": "python",
   "name": "python3"
  },
  "language_info": {
   "codemirror_mode": {
    "name": "ipython",
    "version": 3
   },
   "file_extension": ".py",
   "mimetype": "text/x-python",
   "name": "python",
   "nbconvert_exporter": "python",
   "pygments_lexer": "ipython3",
   "version": "3.6.4"
  }
 },
 "nbformat": 4,
 "nbformat_minor": 2
}
